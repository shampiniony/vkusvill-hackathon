{
 "cells": [
  {
   "cell_type": "code",
   "execution_count": 45,
   "metadata": {},
   "outputs": [],
   "source": [
    "import pandas as pd\n",
    "from sklearn.model_selection import train_test_split"
   ]
  },
  {
   "cell_type": "code",
   "execution_count": 46,
   "metadata": {},
   "outputs": [],
   "source": [
    "\n",
    "# Load all uploaded files\n",
    "raw_products_df = pd.read_csv('products.csv')\n",
    "raw_shedules_df = pd.read_csv('shedules.csv')\n",
    "\n",
    "# The training data will look like this\n",
    "# sku_id,\tname,\tavg_cart,\tt_expiery, stocktaking_time,\tdt,\ttrigger\n"
   ]
  },
  {
   "cell_type": "code",
   "execution_count": 66,
   "metadata": {},
   "outputs": [
    {
     "data": {
      "text/plain": [
       "['A1',\n",
       " 'A10',\n",
       " 'A10',\n",
       " 'A10',\n",
       " 'A10',\n",
       " 'A10',\n",
       " 'A10',\n",
       " 'A10',\n",
       " 'A10',\n",
       " 'A11',\n",
       " 'A11',\n",
       " 'A11',\n",
       " 'A11',\n",
       " 'A12',\n",
       " 'A2',\n",
       " 'A3',\n",
       " 'A4',\n",
       " 'A5',\n",
       " 'A6',\n",
       " 'A7',\n",
       " 'Fr1',\n",
       " 'Fr1',\n",
       " 'Fr1',\n",
       " 'Fr2',\n",
       " 'Fr3',\n",
       " 'Fr4',\n",
       " 'Fr5',\n",
       " 'Fr6',\n",
       " 'Fr7',\n",
       " 'Fr8',\n",
       " 'Fr9']"
      ]
     },
     "execution_count": 66,
     "metadata": {},
     "output_type": "execute_result"
    }
   ],
   "source": [
    "shedules_df = raw_shedules_df[raw_shedules_df['name_TT'].str.contains(\"5018ДС_СПб_Полюстровский59\", case=False, na=False)]\n",
    "\n",
    "shedules_df = shedules_df.rename(columns={\n",
    "    'N': 'id',\n",
    "    'name_TT': 'store',\n",
    "    'НаименованиеГрафика': 'schedule_name',\n",
    "    'Длительность (недель)': 'duration_weeks',\n",
    "    'Стеллажи': 'shelves',\n",
    "    'неделя 1': 'week_1',\n",
    "    'неделя 2': 'week_2',\n",
    "    'неделя 3': 'week_3',\n",
    "    'неделя 4': 'week_4',\n",
    "    'Кол-во дней': 'days_count',\n",
    "    'ЧастотаПостеллажная': 'shelf_frequency',\n",
    "    'ЧастотаГрафика': 'schedule_frequency'\n",
    "}, inplace=False)\n",
    "\n",
    "shedules_df = shedules_df.reset_index(drop=True, inplace=False)\n",
    "\n",
    "products_df = raw_products_df\n",
    "products_df['place'] = products_df['place'].apply(lambda x: ''.join(x.split('-')[:2]))\n",
    "\n",
    "shedules_df.head()['shelves'][0].split(';')"
   ]
  },
  {
   "cell_type": "code",
   "execution_count": null,
   "metadata": {},
   "outputs": [],
   "source": []
  }
 ],
 "metadata": {
  "kernelspec": {
   "display_name": "Python 3",
   "language": "python",
   "name": "python3"
  },
  "language_info": {
   "codemirror_mode": {
    "name": "ipython",
    "version": 3
   },
   "file_extension": ".py",
   "mimetype": "text/x-python",
   "name": "python",
   "nbconvert_exporter": "python",
   "pygments_lexer": "ipython3",
   "version": "3.11.7"
  }
 },
 "nbformat": 4,
 "nbformat_minor": 2
}
