{
 "cells": [
  {
   "cell_type": "code",
   "execution_count": 4,
   "metadata": {},
   "outputs": [],
   "source": [
    "from lightautoml.automl.presets.tabular_presets import TabularAutoML\n",
    "from lightautoml.tasks import Task\n",
    "from sklearn.model_selection import train_test_split\n",
    "from sklearn.metrics import classification_report\n",
    "import pandas as pd\n",
    "\n",
    "training_df = pd.read_csv('training_data.csv')\n"
   ]
  },
  {
   "cell_type": "code",
   "execution_count": 5,
   "metadata": {},
   "outputs": [],
   "source": [
    "X = training_df.drop(columns=['trigger'])\n",
    "y = training_df['trigger']\n",
    "\n",
    "X_train, X_test, y_train, y_test = train_test_split(X, y, test_size=0.2, random_state=42)\n",
    "\n",
    "train_data = X_train.copy()\n",
    "train_data['trigger'] = y_train"
   ]
  },
  {
   "cell_type": "code",
   "execution_count": 6,
   "metadata": {},
   "outputs": [],
   "source": [
    "task = Task('binary')\n",
    "\n",
    "automl = TabularAutoML(task=task, timeout=1200)\n",
    "\n",
    "oof_pred = automl.fit_predict(train_data, roles={'target': 'trigger'})\n",
    "\n",
    "test_pred = automl.predict(X_test)"
   ]
  },
  {
   "cell_type": "code",
   "execution_count": 7,
   "metadata": {},
   "outputs": [
    {
     "name": "stdout",
     "output_type": "stream",
     "text": [
      "[[0.00013479]\n",
      " [0.00011874]\n",
      " [0.00012908]\n",
      " [0.00016988]\n",
      " [0.000153  ]\n",
      " [0.00023806]\n",
      " [0.00021036]\n",
      " [0.0002287 ]\n",
      " [0.00013115]\n",
      " [0.00014261]]\n"
     ]
    }
   ],
   "source": [
    "print(test_pred.data[:10])"
   ]
  },
  {
   "cell_type": "code",
   "execution_count": 8,
   "metadata": {},
   "outputs": [
    {
     "name": "stdout",
     "output_type": "stream",
     "text": [
      "              precision    recall  f1-score   support\n",
      "\n",
      "       False       1.00      1.00      1.00     25369\n",
      "        True       0.71      0.74      0.73        27\n",
      "\n",
      "    accuracy                           1.00     25396\n",
      "   macro avg       0.86      0.87      0.86     25396\n",
      "weighted avg       1.00      1.00      1.00     25396\n",
      "\n"
     ]
    }
   ],
   "source": [
    "report = classification_report(y_test, test_pred.data.round())\n",
    "print(report)"
   ]
  },
  {
   "cell_type": "code",
   "execution_count": 19,
   "metadata": {},
   "outputs": [],
   "source": [
    "mango_data = pd.DataFrame({\n",
    "    'sku_id': [23074],  \n",
    "    'name': ['Манго Египет'],\n",
    "    'category': ['Овощи. Фрукты. Грибы. Зелень'],  \n",
    "    'amount': [0],  \n",
    "    'avg_cart': [0.83],\n",
    "    't_expiery': [100],\n",
    "    'stocktaking_time': [30],\n",
    "    'dt': [0],\n",
    "    'trigger': [True]\n",
    "})"
   ]
  },
  {
   "cell_type": "code",
   "execution_count": 20,
   "metadata": {},
   "outputs": [],
   "source": [
    "mango_data_for_prediction = mango_data.drop(columns=['trigger'])\n",
    "\n",
    "mango_prediction = automl.predict(mango_data_for_prediction)"
   ]
  },
  {
   "cell_type": "code",
   "execution_count": 21,
   "metadata": {},
   "outputs": [
    {
     "name": "stdout",
     "output_type": "stream",
     "text": [
      "[[0.33349946]]\n"
     ]
    }
   ],
   "source": [
    "print(mango_prediction.data)"
   ]
  }
 ],
 "metadata": {
  "kernelspec": {
   "display_name": "venv",
   "language": "python",
   "name": "python3"
  },
  "language_info": {
   "codemirror_mode": {
    "name": "ipython",
    "version": 3
   },
   "file_extension": ".py",
   "mimetype": "text/x-python",
   "name": "python",
   "nbconvert_exporter": "python",
   "pygments_lexer": "ipython3",
   "version": "3.11.5"
  }
 },
 "nbformat": 4,
 "nbformat_minor": 2
}
